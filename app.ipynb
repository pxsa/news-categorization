{
 "cells": [
  {
   "cell_type": "code",
   "execution_count": 1,
   "metadata": {},
   "outputs": [],
   "source": [
    "import numpy as np\n",
    "import pandas as pd"
   ]
  },
  {
   "cell_type": "code",
   "execution_count": 9,
   "metadata": {},
   "outputs": [],
   "source": [
    "train_df = pd.read_csv('data/train.csv', on_bad_lines='skip')\n",
    "test_df  = pd.read_csv('data/test.csv', on_bad_lines='skip')"
   ]
  },
  {
   "cell_type": "code",
   "execution_count": 10,
   "metadata": {},
   "outputs": [
    {
     "name": "stdout",
     "output_type": "stream",
     "text": [
      "<class 'pandas.core.frame.DataFrame'>\n",
      "RangeIndex: 13177 entries, 0 to 13176\n",
      "Data columns (total 1 columns):\n",
      " #   Column                   Non-Null Count  Dtype \n",
      "---  ------                   --------------  ----- \n",
      " 0   \tcontent\tlabel\tlabel_id  13177 non-null  object\n",
      "dtypes: object(1)\n",
      "memory usage: 103.1+ KB\n"
     ]
    }
   ],
   "source": [
    "train_df.info()"
   ]
  },
  {
   "cell_type": "code",
   "execution_count": 74,
   "metadata": {},
   "outputs": [
    {
     "name": "stdout",
     "output_type": "stream",
     "text": [
      "Index(['\\tcontent\\tlabel\\tlabel_id'], dtype='object')\n",
      "Index(['\\tcontent\\tlabel\\tlabel_id'], dtype='object')\n"
     ]
    }
   ],
   "source": [
    "train_df.head()\n",
    "print(train_df.columns)\n",
    "print(test_df.columns)"
   ]
  },
  {
   "cell_type": "code",
   "execution_count": 75,
   "metadata": {},
   "outputs": [],
   "source": [
    "trainDf_rowCount = train_df.shape[0]\n",
    "testDf_rowCount  = test_df.shape[0]"
   ]
  },
  {
   "cell_type": "code",
   "execution_count": 76,
   "metadata": {},
   "outputs": [],
   "source": [
    "import re\n",
    "\n",
    "trainTarget = np.empty(trainDf_rowCount, dtype='object')\n",
    "trainData   = np.empty(trainDf_rowCount, dtype='object')\n",
    "\n",
    "i = 0\n",
    "for row in train_df['\\tcontent\\tlabel\\tlabel_id']:\n",
    "    trainTarget[i] = re.split(r'\\t+', row)[-2]\n",
    "    trainData[i]   = re.split(r'\\t+', row)[-3]\n",
    "    i += 1\n"
   ]
  },
  {
   "cell_type": "code",
   "execution_count": 77,
   "metadata": {},
   "outputs": [],
   "source": [
    "testTarget  = np.empty(testDf_rowCount, dtype='object')\n",
    "testData    = np.empty(testDf_rowCount, dtype='object')\n",
    "\n",
    "i = 0\n",
    "for row in test_df['\\tcontent\\tlabel\\tlabel_id']:\n",
    "    testTarget[i] = re.split(r'\\t+', row)[-2]\n",
    "    testData[i]   = re.split(r'\\t+', row)[-3]\n",
    "    i += 1"
   ]
  },
  {
   "cell_type": "code",
   "execution_count": 79,
   "metadata": {},
   "outputs": [
    {
     "data": {
      "text/html": [
       "<div>\n",
       "<style scoped>\n",
       "    .dataframe tbody tr th:only-of-type {\n",
       "        vertical-align: middle;\n",
       "    }\n",
       "\n",
       "    .dataframe tbody tr th {\n",
       "        vertical-align: top;\n",
       "    }\n",
       "\n",
       "    .dataframe thead th {\n",
       "        text-align: right;\n",
       "    }\n",
       "</style>\n",
       "<table border=\"1\" class=\"dataframe\">\n",
       "  <thead>\n",
       "    <tr style=\"text-align: right;\">\n",
       "      <th></th>\n",
       "      <th>content</th>\n",
       "      <th>category</th>\n",
       "    </tr>\n",
       "  </thead>\n",
       "  <tbody>\n",
       "    <tr>\n",
       "      <th>0</th>\n",
       "      <td>حسن جوهرچی بازیگر سینما و تلویزیون ایران در گف...</td>\n",
       "      <td>فرهنگی هنری</td>\n",
       "    </tr>\n",
       "    <tr>\n",
       "      <th>1</th>\n",
       "      <td>به گزارش گروه بین الملل باشگاه خبرنگاران جوان ...</td>\n",
       "      <td>بین الملل</td>\n",
       "    </tr>\n",
       "    <tr>\n",
       "      <th>2</th>\n",
       "      <td>به گزارش خبرنگار فوتبال و فوتسال گروه ورزشی با...</td>\n",
       "      <td>ورزشی</td>\n",
       "    </tr>\n",
       "    <tr>\n",
       "      <th>3</th>\n",
       "      <td>به‌ گزارش گروه اقتصادی باشگاه خبرنگاران به نقل...</td>\n",
       "      <td>اقتصادی</td>\n",
       "    </tr>\n",
       "    <tr>\n",
       "      <th>4</th>\n",
       "      <td>به گزارش خبرنگار حوزه قرآن و عترت گروه فرهنگی ...</td>\n",
       "      <td>فرهنگی هنری</td>\n",
       "    </tr>\n",
       "  </tbody>\n",
       "</table>\n",
       "</div>"
      ],
      "text/plain": [
       "                                             content     category\n",
       "0  حسن جوهرچی بازیگر سینما و تلویزیون ایران در گف...  فرهنگی هنری\n",
       "1  به گزارش گروه بین الملل باشگاه خبرنگاران جوان ...    بین الملل\n",
       "2  به گزارش خبرنگار فوتبال و فوتسال گروه ورزشی با...        ورزشی\n",
       "3  به‌ گزارش گروه اقتصادی باشگاه خبرنگاران به نقل...      اقتصادی\n",
       "4  به گزارش خبرنگار حوزه قرآن و عترت گروه فرهنگی ...  فرهنگی هنری"
      ]
     },
     "execution_count": 79,
     "metadata": {},
     "output_type": "execute_result"
    }
   ],
   "source": [
    "# create new dataset\n",
    "trianDF = pd.DataFrame({'content': trainData, 'category': trainTarget})\n",
    "testDF  = pd.DataFrame({'content': testData, 'category': testTarget})\n",
    "testDF.head()"
   ]
  },
  {
   "attachments": {},
   "cell_type": "markdown",
   "metadata": {},
   "source": [
    "# Text Preprocessing"
   ]
  },
  {
   "cell_type": "code",
   "execution_count": null,
   "metadata": {},
   "outputs": [],
   "source": []
  }
 ],
 "metadata": {
  "kernelspec": {
   "display_name": "base",
   "language": "python",
   "name": "python3"
  },
  "language_info": {
   "codemirror_mode": {
    "name": "ipython",
    "version": 3
   },
   "file_extension": ".py",
   "mimetype": "text/x-python",
   "name": "python",
   "nbconvert_exporter": "python",
   "pygments_lexer": "ipython3",
   "version": "3.9.7"
  },
  "orig_nbformat": 4,
  "vscode": {
   "interpreter": {
    "hash": "4b25c3272fda9386675e7f647d3dda333e487e678f3dc1b6bfbf79265cfda035"
   }
  }
 },
 "nbformat": 4,
 "nbformat_minor": 2
}
