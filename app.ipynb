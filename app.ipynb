{
 "cells": [
  {
   "cell_type": "code",
   "execution_count": 2,
   "metadata": {},
   "outputs": [],
   "source": [
    "import numpy as np\n",
    "import pandas as pd"
   ]
  },
  {
   "cell_type": "code",
   "execution_count": 32,
   "metadata": {},
   "outputs": [],
   "source": [
    "train_df = pd.read_csv('data/train.csv', on_bad_lines='skip')\n",
    "test_df  = pd.read_csv('data/test.csv',  on_bad_lines='skip')"
   ]
  },
  {
   "cell_type": "code",
   "execution_count": 4,
   "metadata": {},
   "outputs": [
    {
     "name": "stdout",
     "output_type": "stream",
     "text": [
      "<class 'pandas.core.frame.DataFrame'>\n",
      "RangeIndex: 13177 entries, 0 to 13176\n",
      "Data columns (total 1 columns):\n",
      " #   Column                   Non-Null Count  Dtype \n",
      "---  ------                   --------------  ----- \n",
      " 0   \tcontent\tlabel\tlabel_id  13177 non-null  object\n",
      "dtypes: object(1)\n",
      "memory usage: 103.1+ KB\n"
     ]
    }
   ],
   "source": [
    "train_df.info()"
   ]
  },
  {
   "cell_type": "code",
   "execution_count": 5,
   "metadata": {},
   "outputs": [
    {
     "name": "stdout",
     "output_type": "stream",
     "text": [
      "Index(['\\tcontent\\tlabel\\tlabel_id'], dtype='object')\n",
      "Index(['\\tcontent\\tlabel\\tlabel_id'], dtype='object')\n"
     ]
    }
   ],
   "source": [
    "train_df.head()\n",
    "print(train_df.columns)\n",
    "print(test_df.columns)"
   ]
  },
  {
   "cell_type": "code",
   "execution_count": 24,
   "metadata": {},
   "outputs": [],
   "source": [
    "trainDf_rowCount = train_df.shape[0]\n",
    "testDf_rowCount  = test_df.shape[0]"
   ]
  },
  {
   "cell_type": "code",
   "execution_count": 68,
   "metadata": {},
   "outputs": [],
   "source": [
    "import re\n",
    "\n",
    "trainTarget = np.empty(trainDf_rowCount, dtype='object')\n",
    "trainData   = np.empty(trainDf_rowCount, dtype='object')\n",
    "\n",
    "i = 0\n",
    "for row in train_df['\\tcontent\\tlabel\\tlabel_id']:\n",
    "    trainTarget[i] = re.split(r'\\t+', row)[-2]\n",
    "    trainData[i]   = re.split(r'\\t+', row)[-3]\n",
    "    i += 1\n"
   ]
  },
  {
   "cell_type": "code",
   "execution_count": 69,
   "metadata": {},
   "outputs": [],
   "source": [
    "testTarget  = np.empty(testDf_rowCount, dtype='object')\n",
    "testData    = np.empty(testDf_rowCount, dtype='object')\n",
    "\n",
    "i = 0\n",
    "for row in test_df['\\tcontent\\tlabel\\tlabel_id']:\n",
    "    testTarget[i] = re.split(r'\\t+', row)[-2]\n",
    "    testData[i]   = re.split(r'\\t+', row)[-3]\n",
    "    i += 1"
   ]
  },
  {
   "cell_type": "code",
   "execution_count": 70,
   "metadata": {},
   "outputs": [
    {
     "data": {
      "text/html": [
       "<div>\n",
       "<style scoped>\n",
       "    .dataframe tbody tr th:only-of-type {\n",
       "        vertical-align: middle;\n",
       "    }\n",
       "\n",
       "    .dataframe tbody tr th {\n",
       "        vertical-align: top;\n",
       "    }\n",
       "\n",
       "    .dataframe thead th {\n",
       "        text-align: right;\n",
       "    }\n",
       "</style>\n",
       "<table border=\"1\" class=\"dataframe\">\n",
       "  <thead>\n",
       "    <tr style=\"text-align: right;\">\n",
       "      <th></th>\n",
       "      <th>content</th>\n",
       "      <th>category</th>\n",
       "    </tr>\n",
       "  </thead>\n",
       "  <tbody>\n",
       "    <tr>\n",
       "      <th>0</th>\n",
       "      <td>حسن جوهرچی بازیگر سینما و تلویزیون ایران در گف...</td>\n",
       "      <td>فرهنگی هنری</td>\n",
       "    </tr>\n",
       "    <tr>\n",
       "      <th>1</th>\n",
       "      <td>به گزارش گروه بین الملل باشگاه خبرنگاران جوان ...</td>\n",
       "      <td>بین الملل</td>\n",
       "    </tr>\n",
       "    <tr>\n",
       "      <th>2</th>\n",
       "      <td>به گزارش خبرنگار فوتبال و فوتسال گروه ورزشی با...</td>\n",
       "      <td>ورزشی</td>\n",
       "    </tr>\n",
       "    <tr>\n",
       "      <th>3</th>\n",
       "      <td>به‌ گزارش گروه اقتصادی باشگاه خبرنگاران به نقل...</td>\n",
       "      <td>اقتصادی</td>\n",
       "    </tr>\n",
       "    <tr>\n",
       "      <th>4</th>\n",
       "      <td>به گزارش خبرنگار حوزه قرآن و عترت گروه فرهنگی ...</td>\n",
       "      <td>فرهنگی هنری</td>\n",
       "    </tr>\n",
       "  </tbody>\n",
       "</table>\n",
       "</div>"
      ],
      "text/plain": [
       "                                             content     category\n",
       "0  حسن جوهرچی بازیگر سینما و تلویزیون ایران در گف...  فرهنگی هنری\n",
       "1  به گزارش گروه بین الملل باشگاه خبرنگاران جوان ...    بین الملل\n",
       "2  به گزارش خبرنگار فوتبال و فوتسال گروه ورزشی با...        ورزشی\n",
       "3  به‌ گزارش گروه اقتصادی باشگاه خبرنگاران به نقل...      اقتصادی\n",
       "4  به گزارش خبرنگار حوزه قرآن و عترت گروه فرهنگی ...  فرهنگی هنری"
      ]
     },
     "execution_count": 70,
     "metadata": {},
     "output_type": "execute_result"
    }
   ],
   "source": [
    "# create new dataset\n",
    "trianDF = pd.DataFrame({'content': trainData, 'category': trainTarget})\n",
    "testDF  = pd.DataFrame({'content': testData, 'category': testTarget})\n",
    "testDF.head()"
   ]
  },
  {
   "attachments": {},
   "cell_type": "markdown",
   "metadata": {},
   "source": [
    "# Text Preprocessing"
   ]
  },
  {
   "cell_type": "code",
   "execution_count": 71,
   "metadata": {},
   "outputs": [
    {
     "name": "stdout",
     "output_type": "stream",
     "text": [
      "<class 'str'>\n"
     ]
    }
   ],
   "source": [
    "import codecs\n",
    "from hazm import Normalizer\n",
    "\n",
    "nmz = Normalizer()\n",
    "stops = \"\\n\".join(\n",
    "    sorted(\n",
    "        list(\n",
    "            set(\n",
    "                [\n",
    "                    nmz.normalize(w) for w in codecs.open('persian-stopwords-master/persian', encoding='utf-8').read().split('\\n') if w\n",
    "                ]\n",
    "            )\n",
    "        )\n",
    "    )\n",
    ")\n",
    "print(type(stops))\n"
   ]
  },
  {
   "cell_type": "code",
   "execution_count": 72,
   "metadata": {},
   "outputs": [],
   "source": [
    "# converting str to list\n",
    "stops = stops.split('\\n')"
   ]
  },
  {
   "cell_type": "code",
   "execution_count": 73,
   "metadata": {},
   "outputs": [
    {
     "data": {
      "text/plain": [
       "False"
      ]
     },
     "execution_count": 73,
     "metadata": {},
     "output_type": "execute_result"
    }
   ],
   "source": [
    "word = \"دوشنبه\"\n",
    "isin = word in stops \n",
    "isin"
   ]
  },
  {
   "cell_type": "code",
   "execution_count": 75,
   "metadata": {},
   "outputs": [],
   "source": [
    "def removeUnnecessaryChars(df):\n",
    "    lst = np.array(['۰', '۱', '۲', '۳', '۴', '۵', '۶', '۷', '۸', '۹', '؛', ':', '،', '!', '؟', '.'])\n",
    "    contents = []\n",
    "    \n",
    "    for i in range(df.shape[0]):\n",
    "        container = df['content'][i]\n",
    "        # remove special characters\n",
    "        for char in lst:\n",
    "            container = container.replace(char, \"\")\n",
    "        # remove half-space\n",
    "        container = container.replace('\\u200c', \" \")\n",
    "        # change 2 spaces with single space\n",
    "        container = container.replace('  ', \" \")\n",
    "        contents.append(container)\n",
    "\n",
    "\n",
    "    return contents"
   ]
  },
  {
   "cell_type": "code",
   "execution_count": 77,
   "metadata": {},
   "outputs": [],
   "source": [
    "trianDF.content = removeUnnecessaryChars(trianDF)\n",
    "testDF.content  = removeUnnecessaryChars(testDF)"
   ]
  },
  {
   "attachments": {},
   "cell_type": "markdown",
   "metadata": {},
   "source": [
    "# Feature Extraction"
   ]
  },
  {
   "cell_type": "code",
   "execution_count": 79,
   "metadata": {},
   "outputs": [
    {
     "name": "stderr",
     "output_type": "stream",
     "text": [
      "/home/paghsa/anaconda3/lib/python3.9/site-packages/sklearn/feature_extraction/text.py:489: UserWarning: The parameter 'token_pattern' will not be used since 'tokenizer' is not None'\n",
      "  warnings.warn(\"The parameter 'token_pattern' will not be used\"\n",
      "/home/paghsa/anaconda3/lib/python3.9/site-packages/sklearn/feature_extraction/text.py:388: UserWarning: Your stop_words may be inconsistent with your preprocessing. Tokenizing the stop words generated tokens ['!', 'آسانی', 'آسیب', 'ازاین', 'اسلامی', 'اطلاعند', 'الاسف', 'الظاهر', 'ب', 'بااین', 'بازی', 'باوجودی', 'برآن', 'برنامه', 'بسته', 'بطوری', 'بفهمی', 'تازگی', 'تحریم', 'تدریج', 'ترتیب', 'تردید', 'ترند', 'تفاوتند', 'تند', 'تک', 'ثانی', 'جمع', 'جمله', 'جنس', 'جوری', 'حسابی', 'خوبی', 'خودبه', 'خودی', 'دراین', 'درحالی', 'درشتی', 'درصورتی', 'درعین', 'درپی', 'دسته', 'دلخواه', 'ذلک', 'راجع', 'رغم', 'روزه', 'روشنی', 'زده', 'زودی', 'سادگی', 'سازهاست', 'ساله', 'ست', 'سرعت', 'سه', 'سیاه', 'شاأالله', 'شدت', 'صندوق', 'طوری', 'علاوه', 'علی', 'عملی', 'قد', 'لا', 'مامان', 'مجموع', 'مذهبی', 'مراتب', 'مع', 'ناراضی', 'ناچار', 'نفهمی', 'نهایت', 'نیازمندانه', 'هاست', 'هدف', 'هرحال', 'هق', 'واقع', 'وجه', 'وحشت', 'وضوح', 'پایین', 'پذیرند', 'پهن', 'چاله', 'چشم', 'کرات', 'کنان', 'گرمی', 'گویان', 'یواش', '\\ufeff'] not in stop_words.\n",
      "  warnings.warn('Your stop_words may be inconsistent with '\n"
     ]
    },
    {
     "data": {
      "text/plain": [
       "((13177, 86551), (1621, 86551))"
      ]
     },
     "execution_count": 79,
     "metadata": {},
     "output_type": "execute_result"
    }
   ],
   "source": [
    "from hazm import WordTokenizer\n",
    "from sklearn.feature_extraction.text import TfidfVectorizer\n",
    "\n",
    "vectorizer = TfidfVectorizer(stop_words = stops, tokenizer = WordTokenizer().tokenize)\n",
    "\n",
    "vectorizer = vectorizer.fit(trianDF.content.values)\n",
    "\n",
    "train = vectorizer.transform(trianDF.content.values)\n",
    "test  = vectorizer.transform(testDF.content.values)\n",
    "train.shape, test.shape"
   ]
  },
  {
   "attachments": {},
   "cell_type": "markdown",
   "metadata": {},
   "source": [
    "# Feature Selection"
   ]
  },
  {
   "cell_type": "code",
   "execution_count": 81,
   "metadata": {},
   "outputs": [
    {
     "data": {
      "text/plain": [
       "((13177, 12958), (1621, 12958))"
      ]
     },
     "execution_count": 81,
     "metadata": {},
     "output_type": "execute_result"
    }
   ],
   "source": [
    "from sklearn.feature_selection import VarianceThreshold\n",
    "\n",
    "feature_selector = VarianceThreshold(threshold=1e-5)\n",
    "feature_selector = feature_selector.fit(train)\n",
    "\n",
    "x_train = feature_selector.transform(train)\n",
    "x_test  = feature_selector.transform(test)\n",
    "\n",
    "x_train.shape, x_test.shape"
   ]
  },
  {
   "cell_type": "code",
   "execution_count": 82,
   "metadata": {},
   "outputs": [
    {
     "data": {
      "text/plain": [
       "((13177,), (1621,))"
      ]
     },
     "execution_count": 82,
     "metadata": {},
     "output_type": "execute_result"
    }
   ],
   "source": [
    "y_train = trianDF.category.values\n",
    "y_test  = testDF.category.values\n",
    "\n",
    "y_train.shape, y_test.shape"
   ]
  },
  {
   "attachments": {},
   "cell_type": "markdown",
   "metadata": {},
   "source": [
    "# Model"
   ]
  },
  {
   "cell_type": "code",
   "execution_count": 84,
   "metadata": {},
   "outputs": [],
   "source": [
    "from sklearn.svm import SVC\n",
    "from sklearn.metrics import accuracy_score, precision_score, recall_score, confusion_matrix\n",
    "\n",
    "svc    = SVC().fit(x_train, y_train)\n",
    "y_pred = svc.predict(x_test)"
   ]
  },
  {
   "cell_type": "code",
   "execution_count": 85,
   "metadata": {},
   "outputs": [
    {
     "name": "stdout",
     "output_type": "stream",
     "text": [
      "\tAccuracy: 0.9025\n",
      "\tPrecision: 0.9043 \n",
      "\tRecall: 0.9037\n",
      "Confusion-Matrix:\n",
      "[[171   2   0  12   5  10   3  12]\n",
      " [  5 128   2   4   3   4   0   2]\n",
      " [  0   2 187   3   4   0   0   0]\n",
      " [  6   8   9 195   0   1   1   5]\n",
      " [  1   1   0   2 225   1   0   9]\n",
      " [  6   1   0   6   0 234   1   3]\n",
      " [  0   0   1   1   0   1 134   1]\n",
      " [  5   2   1   3   7   2   0 189]]\n",
      "\n"
     ]
    }
   ],
   "source": [
    "accuracy  = accuracy_score(y_test, y_pred)\n",
    "precision = precision_score(y_test, y_pred, average='macro')\n",
    "recall    = recall_score(y_test, y_pred, average='macro')\n",
    "\n",
    "print(f\"\\tAccuracy: {accuracy:.4f}\\n\\tPrecision: {precision:.4f} \\n\\tRecall: {recall:.4f}\")\n",
    "print(f\"Confusion-Matrix:\\n{confusion_matrix(y_test, y_pred)}\\n\")"
   ]
  },
  {
   "cell_type": "code",
   "execution_count": 96,
   "metadata": {},
   "outputs": [
    {
     "name": "stdout",
     "output_type": "stream",
     "text": [
      "['سیاسی']\n"
     ]
    }
   ],
   "source": [
    "news = \"این یک خبر دروغ و سیاسی است که امریکا به ایران حمله کرده است\"\n",
    "data = {'content': news}\n",
    "df_predict = pd.DataFrame(data, index=[0])\n",
    "\n",
    "df_predict.content  = removeUnnecessaryChars(df_predict)\n",
    "sampleTest  = vectorizer.transform(df_predict.content.values)\n",
    "sample_x_test  = feature_selector.transform(sampleTest)\n",
    "\n",
    "category = svc.predict(sample_x_test)\n",
    "print(category)"
   ]
  },
  {
   "cell_type": "code",
   "execution_count": null,
   "metadata": {},
   "outputs": [],
   "source": []
  }
 ],
 "metadata": {
  "kernelspec": {
   "display_name": "base",
   "language": "python",
   "name": "python3"
  },
  "language_info": {
   "codemirror_mode": {
    "name": "ipython",
    "version": 3
   },
   "file_extension": ".py",
   "mimetype": "text/x-python",
   "name": "python",
   "nbconvert_exporter": "python",
   "pygments_lexer": "ipython3",
   "version": "3.9.7"
  },
  "orig_nbformat": 4,
  "vscode": {
   "interpreter": {
    "hash": "4b25c3272fda9386675e7f647d3dda333e487e678f3dc1b6bfbf79265cfda035"
   }
  }
 },
 "nbformat": 4,
 "nbformat_minor": 2
}
