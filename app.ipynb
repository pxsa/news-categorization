{
 "cells": [
  {
   "cell_type": "code",
   "execution_count": 2,
   "metadata": {},
   "outputs": [],
   "source": [
    "import numpy as np\n",
    "import pandas as pd"
   ]
  },
  {
   "cell_type": "code",
   "execution_count": 32,
   "metadata": {},
   "outputs": [],
   "source": [
    "train_df = pd.read_csv('data/train.csv', on_bad_lines='skip')\n",
    "test_df  = pd.read_csv('data/test.csv', on_bad_lines='skip')"
   ]
  },
  {
   "cell_type": "code",
   "execution_count": 4,
   "metadata": {},
   "outputs": [
    {
     "name": "stdout",
     "output_type": "stream",
     "text": [
      "<class 'pandas.core.frame.DataFrame'>\n",
      "RangeIndex: 13177 entries, 0 to 13176\n",
      "Data columns (total 1 columns):\n",
      " #   Column                   Non-Null Count  Dtype \n",
      "---  ------                   --------------  ----- \n",
      " 0   \tcontent\tlabel\tlabel_id  13177 non-null  object\n",
      "dtypes: object(1)\n",
      "memory usage: 103.1+ KB\n"
     ]
    }
   ],
   "source": [
    "train_df.info()"
   ]
  },
  {
   "cell_type": "code",
   "execution_count": 5,
   "metadata": {},
   "outputs": [
    {
     "name": "stdout",
     "output_type": "stream",
     "text": [
      "Index(['\\tcontent\\tlabel\\tlabel_id'], dtype='object')\n",
      "Index(['\\tcontent\\tlabel\\tlabel_id'], dtype='object')\n"
     ]
    }
   ],
   "source": [
    "train_df.head()\n",
    "print(train_df.columns)\n",
    "print(test_df.columns)"
   ]
  },
  {
   "cell_type": "code",
   "execution_count": 24,
   "metadata": {},
   "outputs": [],
   "source": [
    "trainDf_rowCount = train_df.shape[0]\n",
    "testDf_rowCount  = test_df.shape[0]"
   ]
  },
  {
   "cell_type": "code",
   "execution_count": 33,
   "metadata": {},
   "outputs": [],
   "source": [
    "import re\n",
    "\n",
    "trainTarget = np.empty(trainDf_rowCount, dtype='object')\n",
    "trainData   = np.empty(trainDf_rowCount, dtype='object')\n",
    "\n",
    "i = 0\n",
    "for row in train_df['\\tcontent\\tlabel\\tlabel_id']:\n",
    "    trainTarget[i] = re.split(r'\\t+', row)[-2]\n",
    "    trainData[i]   = re.split(r'\\t+', row)[-3]\n",
    "    i += 1\n"
   ]
  },
  {
   "cell_type": "code",
   "execution_count": 34,
   "metadata": {},
   "outputs": [],
   "source": [
    "testTarget  = np.empty(testDf_rowCount, dtype='object')\n",
    "testData    = np.empty(testDf_rowCount, dtype='object')\n",
    "\n",
    "i = 0\n",
    "for row in test_df['\\tcontent\\tlabel\\tlabel_id']:\n",
    "    testTarget[i] = re.split(r'\\t+', row)[-2]\n",
    "    testData[i]   = re.split(r'\\t+', row)[-3]\n",
    "    i += 1"
   ]
  },
  {
   "cell_type": "code",
   "execution_count": 35,
   "metadata": {},
   "outputs": [
    {
     "data": {
      "text/html": [
       "<div>\n",
       "<style scoped>\n",
       "    .dataframe tbody tr th:only-of-type {\n",
       "        vertical-align: middle;\n",
       "    }\n",
       "\n",
       "    .dataframe tbody tr th {\n",
       "        vertical-align: top;\n",
       "    }\n",
       "\n",
       "    .dataframe thead th {\n",
       "        text-align: right;\n",
       "    }\n",
       "</style>\n",
       "<table border=\"1\" class=\"dataframe\">\n",
       "  <thead>\n",
       "    <tr style=\"text-align: right;\">\n",
       "      <th></th>\n",
       "      <th>content</th>\n",
       "      <th>category</th>\n",
       "    </tr>\n",
       "  </thead>\n",
       "  <tbody>\n",
       "    <tr>\n",
       "      <th>0</th>\n",
       "      <td>حسن جوهرچی بازیگر سینما و تلویزیون ایران در گف...</td>\n",
       "      <td>فرهنگی هنری</td>\n",
       "    </tr>\n",
       "    <tr>\n",
       "      <th>1</th>\n",
       "      <td>به گزارش گروه بین الملل باشگاه خبرنگاران جوان ...</td>\n",
       "      <td>بین الملل</td>\n",
       "    </tr>\n",
       "    <tr>\n",
       "      <th>2</th>\n",
       "      <td>به گزارش خبرنگار فوتبال و فوتسال گروه ورزشی با...</td>\n",
       "      <td>ورزشی</td>\n",
       "    </tr>\n",
       "    <tr>\n",
       "      <th>3</th>\n",
       "      <td>به‌ گزارش گروه اقتصادی باشگاه خبرنگاران به نقل...</td>\n",
       "      <td>اقتصادی</td>\n",
       "    </tr>\n",
       "    <tr>\n",
       "      <th>4</th>\n",
       "      <td>به گزارش خبرنگار حوزه قرآن و عترت گروه فرهنگی ...</td>\n",
       "      <td>فرهنگی هنری</td>\n",
       "    </tr>\n",
       "  </tbody>\n",
       "</table>\n",
       "</div>"
      ],
      "text/plain": [
       "                                             content     category\n",
       "0  حسن جوهرچی بازیگر سینما و تلویزیون ایران در گف...  فرهنگی هنری\n",
       "1  به گزارش گروه بین الملل باشگاه خبرنگاران جوان ...    بین الملل\n",
       "2  به گزارش خبرنگار فوتبال و فوتسال گروه ورزشی با...        ورزشی\n",
       "3  به‌ گزارش گروه اقتصادی باشگاه خبرنگاران به نقل...      اقتصادی\n",
       "4  به گزارش خبرنگار حوزه قرآن و عترت گروه فرهنگی ...  فرهنگی هنری"
      ]
     },
     "execution_count": 35,
     "metadata": {},
     "output_type": "execute_result"
    }
   ],
   "source": [
    "# create new dataset\n",
    "trianDF = pd.DataFrame({'content': trainData, 'category': trainTarget})\n",
    "testDF  = pd.DataFrame({'content': testData, 'category': testTarget})\n",
    "testDF.head()"
   ]
  },
  {
   "attachments": {},
   "cell_type": "markdown",
   "metadata": {},
   "source": [
    "# Text Preprocessing"
   ]
  },
  {
   "cell_type": "code",
   "execution_count": 27,
   "metadata": {},
   "outputs": [
    {
     "name": "stdout",
     "output_type": "stream",
     "text": [
      "<class 'str'>\n"
     ]
    }
   ],
   "source": [
    "import codecs\n",
    "from hazm import Normalizer\n",
    "\n",
    "nmz = Normalizer()\n",
    "stops = \"\\n\".join(\n",
    "    sorted(\n",
    "        list(\n",
    "            set(\n",
    "                [\n",
    "                    nmz.normalize(w) for w in codecs.open('persian-stopwords-master/persian', encoding='utf-8').read().split('\\n') if w\n",
    "                ]\n",
    "            )\n",
    "        )\n",
    "    )\n",
    ")\n",
    "print(type(stops))\n"
   ]
  },
  {
   "cell_type": "code",
   "execution_count": 28,
   "metadata": {},
   "outputs": [
    {
     "data": {
      "text/plain": [
       "array(['\"', '#', '(', ..., '…', '\\ufeff!', '\\ufeffو'], dtype='<U17')"
      ]
     },
     "execution_count": 28,
     "metadata": {},
     "output_type": "execute_result"
    }
   ],
   "source": [
    "stops = np.array(stops.split('\\n'))\n",
    "stops"
   ]
  },
  {
   "cell_type": "code",
   "execution_count": 29,
   "metadata": {},
   "outputs": [
    {
     "data": {
      "text/plain": [
       "False"
      ]
     },
     "execution_count": 29,
     "metadata": {},
     "output_type": "execute_result"
    }
   ],
   "source": [
    "word = \"دوشنبه\"\n",
    "isin = word in stops \n",
    "isin"
   ]
  },
  {
   "cell_type": "code",
   "execution_count": 41,
   "metadata": {},
   "outputs": [
    {
     "data": {
      "text/plain": [
       "'به گزارش خبرنگار حوزه بهداشت و درمان گروه علمی پزشکی باشگاه خبرنگاران جوان محمد آقاجانی روز دوشنبه در نشست مشترک و هم اندیشی اعضای کمیسیون برنامه بودجه و محاسبات مجلس و شورای معاونین وزارت بهداشت اظهار داشت در بیش از کلینیک ویژه در سطح کشور از ابتدای طرح تحول سلامت تا پایان سال گذشته میلیون بار ویزیت تخصصی و فوق تخصصی با دریافت بهای بسیار اندک حدود هزار تومانی برای مردم طبقات محروم و متوسط انجام شد وی به بیان مهمترین مشکلات پیش روی طرح تحول سلامت پرداخت و گفت مهمترین معضل این طرح عدم پایداری منابع است و اعتبارات وزارت بهداشت در سه سال اخیر به طور کامل محقق نشد آقاجانی تصریح کرد در سال معادل یک سوم بودجه سال به وزارت بهداشت بودجه تخصیص یافت اما خدمات حوزه سلامت همچنان با تلاش ها و زحمات جامعه پزشکی پرستاری و کادر بهداشتی و درمانی کشور بدون هیچ گونه کاستی به مردم ارائه می شود معاون درمان وزارت بهداشت تاکید کرد برای جبران کاهش بودجه وزارت بهداشت در سال سوم اجرای طرح تحول سلامت نسبت به سال اول در هزینه های به طور جدی صرفه جویی کردیم اما سال گذشته از محل هدفمندی یارانه ها نیز اعتباری دریافت نکردیم آقاجانی در خصوص وضعیت مطالبات وزارت بهداشت از بیمه ها یادآور شد بیمارستانهای وزارت بهداشت هنوز مطالبات ماه از سال گذشته را از بیمه ها دریافت نکرده اند و حدود هزار و میلیارد تومان اسناد ارسالی به بیمه ها دارند وی به وجود سامانه مرکزی خدمات بستری در وزارت بهداشت اشاره کرد و افزود بر اساس اطلاعات این سامانه رشد خدمات بستری پس از طرح تحول سلامت فقط درصد است در حالی که شاهد رشد درصدی بیمه شدگان بودیم بنابراین تقاضای القایی ایجاد نشده اما در حوزه خدمات سرپایی ممکن است تقاضای القای وجود داشته باشد چون دفترچه سفیدی را در اختیار مردم قرار می دهیم که ممکن است هر روز به پرشکان مختلف مراجعه کنند و چندین خدمت پزشکی را دریافت کنند'"
      ]
     },
     "execution_count": 41,
     "metadata": {},
     "output_type": "execute_result"
    }
   ],
   "source": [
    "lst = np.array(['۰', '۱', '۲', '۳', '۴', '۵', '۶', '۷', '۸', '۹', '؛', ':', '،', '!', '؟', '.'])\n",
    "contents = []\n",
    "\n",
    "for i in range(trianDF.shape[0]):\n",
    "    container = trianDF['content'][i]\n",
    "    # remove special characters\n",
    "    for char in lst:\n",
    "        container = container.replace(char, \"\")\n",
    "    # remove half-space\n",
    "    container = container.replace('\\u200c', \" \")\n",
    "    # change 2 spaces with single space\n",
    "    container = container.replace('  ', \" \")\n",
    "    contents.append(container)\n",
    "\n",
    "\n",
    "trianDF.content = contents\n",
    "trianDF['content'][0]"
   ]
  },
  {
   "cell_type": "code",
   "execution_count": null,
   "metadata": {},
   "outputs": [],
   "source": []
  }
 ],
 "metadata": {
  "kernelspec": {
   "display_name": "base",
   "language": "python",
   "name": "python3"
  },
  "language_info": {
   "codemirror_mode": {
    "name": "ipython",
    "version": 3
   },
   "file_extension": ".py",
   "mimetype": "text/x-python",
   "name": "python",
   "nbconvert_exporter": "python",
   "pygments_lexer": "ipython3",
   "version": "3.9.7"
  },
  "orig_nbformat": 4,
  "vscode": {
   "interpreter": {
    "hash": "4b25c3272fda9386675e7f647d3dda333e487e678f3dc1b6bfbf79265cfda035"
   }
  }
 },
 "nbformat": 4,
 "nbformat_minor": 2
}
